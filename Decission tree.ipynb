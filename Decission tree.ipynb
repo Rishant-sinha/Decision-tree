{
  "nbformat": 4,
  "nbformat_minor": 0,
  "metadata": {
    "colab": {
      "provenance": []
    },
    "kernelspec": {
      "name": "python3",
      "display_name": "Python 3"
    },
    "language_info": {
      "name": "python"
    }
  },
  "cells": [
    {
      "cell_type": "markdown",
      "source": [
        "# Decision Tree"
      ],
      "metadata": {
        "id": "-T1RAk0ow7Hu"
      }
    },
    {
      "cell_type": "markdown",
      "source": [
        "1. **What is a Decision Tree, and how does it work?**\n",
        "- A **Decision Tree** is a supervised machine learning algorithm used for both **classification** and **regression** tasks. It works like a flowchart where:\n",
        "\n",
        "* **Each internal node** represents a decision based on a feature (e.g., \"Is age > 50?\").\n",
        "* **Each branch** represents the outcome of that decision (yes/no).\n",
        "* **Each leaf node** represents the final output or prediction.\n",
        "\n",
        "### How it works:\n",
        "\n",
        "1. **Select the best feature** to split the data based on a criterion (like Gini impurity, entropy, or variance).\n",
        "2. **Split the dataset** into subsets based on that feature.\n",
        "3. **Repeat the process** recursively for each subset.\n",
        "4. **Stop splitting** when a stopping condition is met (e.g., max depth, pure nodes, or minimum samples).\n",
        "\n"
      ],
      "metadata": {
        "id": "ELWhHjjTxDnO"
      }
    },
    {
      "cell_type": "markdown",
      "source": [
        "**2.What are impurity measures in Decision Trees?**\n",
        "- **Impurity measures** in Decision Trees help determine how \"mixed\" or \"impure\" a node is. A pure node contains data points mostly from one class, while an impure node has a mix of classes. These measures guide how the tree splits the data.\n",
        "\n",
        "### Common impurity measures:\n",
        "\n",
        "1. **Gini Impurity (used in CART):**\n",
        "\n",
        "   $$\n",
        "   Gini = 1 - \\sum p_i^2\n",
        "   $$\n",
        "\n",
        "   Where $p_i$ is the probability of class $i$. Lower Gini means purer nodes.\n",
        "\n",
        "2. **Entropy (used in ID3):**\n",
        "\n",
        "   $$\n",
        "   Entropy = - \\sum p_i \\log_2(p_i)\n",
        "   $$\n",
        "\n",
        "   Measures the level of uncertainty. Zero entropy means pure class.\n",
        "\n",
        "3. **Classification Error:**\n",
        "\n",
        "   $$\n",
        "   Error = 1 - \\max(p_i)\n",
        "   $$\n",
        "\n",
        "   Simple but less sensitive than Gini or Entropy.\n",
        "\n",
        "4. **Variance (for regression trees):**\n",
        "\n",
        "   $$\n",
        "   Variance = \\frac{1}{n} \\sum (y_i - \\bar{y})^2\n",
        "   $$\n",
        "\n",
        "   Used to measure impurity in regression tasks.\n",
        "\n",
        "Each splitting decision aims to **reduce impurity** in the resulting child nodes.\n"
      ],
      "metadata": {
        "id": "Zx8CaUiyxiMe"
      }
    },
    {
      "cell_type": "markdown",
      "source": [
        "**3. What is the mathematical formula for Gini Impurity?**\n",
        "- The **mathematical formula** for **Gini Impurity** is:\n",
        "\n",
        "$$\n",
        "Gini = 1 - \\sum_{i=1}^{C} p_i^2\n",
        "$$\n",
        "\n",
        "Where:\n",
        "\n",
        "* $C$ = number of classes\n",
        "* $p_i$ = proportion of samples belonging to class $i$ in the node\n",
        "\n",
        "### Example:\n",
        "\n",
        "If a node has 3 classes with proportions $p_1 = 0.5$, $p_2 = 0.3$, $p_3 = 0.2$, then:\n",
        "\n",
        "$$\n",
        "Gini = 1 - (0.5^2 + 0.3^2 + 0.2^2) = 1 - (0.25 + 0.09 + 0.04) = 1 - 0.38 = 0.62\n",
        "$$\n",
        "\n",
        "A Gini of **0** means the node is pure.\n"
      ],
      "metadata": {
        "id": "bBUEvR4lyBgX"
      }
    },
    {
      "cell_type": "markdown",
      "source": [
        "**4. What is the mathematical formula for Entropy?**\n",
        "- The **mathematical formula** for **Entropy** is:\n",
        "\n",
        "$$\n",
        "Entropy = - \\sum_{i=1}^{C} p_i \\log_2(p_i)\n",
        "$$\n",
        "\n",
        "Where:\n",
        "\n",
        "* $C$ = number of classes\n",
        "* $p_i$ = proportion of samples belonging to class $i$ in the node\n",
        "\n",
        "### Notes:\n",
        "\n",
        "* If $p_i = 0$, then $p_i \\log_2(p_i)$ is treated as 0.\n",
        "* Entropy ranges from **0 (pure node)** to **log₂(C) (maximum impurity)**.\n",
        "\n",
        "### Example:\n",
        "\n",
        "If a node has 2 classes with $p_1 = 0.5$, $p_2 = 0.5$:\n",
        "\n",
        "$$\n",
        "Entropy = - (0.5 \\log_2 0.5 + 0.5 \\log_2 0.5) = - (0.5 \\times -1 + 0.5 \\times -1) = 1\n",
        "$$\n",
        "\n",
        "So, this is a highly impure (uncertain) node.\n"
      ],
      "metadata": {
        "id": "UZjhuBemyNil"
      }
    },
    {
      "cell_type": "markdown",
      "source": [
        "**5. What is Information Gain, and how is it used in Decision Trees?**\n",
        "- **Information Gain (IG)** measures how much **uncertainty (entropy)** is reduced after splitting a dataset based on an attribute. It is used in **Decision Trees** (like ID3) to choose the best feature for splitting.\n",
        "\n",
        "### **Formula:**\n",
        "\n",
        "$$\n",
        "IG(S, A) = Entropy(S) - \\sum_{v \\in Values(A)} \\frac{|S_v|}{|S|} \\cdot Entropy(S_v)\n",
        "$$\n",
        "\n",
        "Where:\n",
        "\n",
        "* $S$ = original dataset\n",
        "* $A$ = feature to split on\n",
        "* $v$ = possible values of feature $A$\n",
        "* $S_v$ = subset of $S$ where $A = v$\n",
        "\n",
        "### **How it's used:**\n",
        "\n",
        "1. **Calculate the entropy** of the current dataset.\n",
        "2. For each feature, **compute the entropy of subsets** created by splitting on that feature.\n",
        "3. **Subtract weighted subset entropies** from the original entropy → this gives Information Gain.\n",
        "4. **Choose the feature** with the **highest IG** for the split.\n",
        "\n",
        "Higher Information Gain = better feature for reducing impurity.\n"
      ],
      "metadata": {
        "id": "Hrs9wX27y67P"
      }
    },
    {
      "cell_type": "markdown",
      "source": [
        "**6. What is the difference between Gini Impurity and Entropy?**\n",
        "- Here’s a clear comparison between **Gini Impurity** and **Entropy**:\n",
        "\n",
        "| Feature             | Gini Impurity                       | Entropy                                      |\n",
        "| ------------------- | ----------------------------------- | -------------------------------------------- |\n",
        "| **Formula**         | $1 - \\sum p_i^2$                    | $-\\sum p_i \\log_2(p_i)$                      |\n",
        "| **Range**           | 0 (pure) to \\~0.5 (binary split)    | 0 (pure) to 1 (binary split)                 |\n",
        "| **Computation**     | Simpler and faster                  | Slightly more complex due to log calculation |\n",
        "| **Used in**         | CART algorithm                      | ID3, C4.5 algorithms                         |\n",
        "| **Splitting bias**  | Prefers larger partitions           | Can favor more balanced splits               |\n",
        "| **Output behavior** | Often similar to entropy in results | More theoretically grounded (info theory)    |\n",
        "\n"
      ],
      "metadata": {
        "id": "3MflnKO1zKSu"
      }
    },
    {
      "cell_type": "markdown",
      "source": [
        "**7. What is the mathematical explanation behind Decision Trees?**\n",
        "- Here’s the **mathematical explanation of Decision Trees in sentences**:\n",
        "\n",
        "A Decision Tree starts with a dataset containing features and class labels. At each node, it calculates the **impurity** (such as Gini or Entropy) to measure how mixed the classes are. Then, for every possible split (based on feature and threshold), it divides the data into two subsets and calculates the **weighted impurity** of the split.\n",
        "\n",
        "The difference between the impurity before and after the split is called **Information Gain**. The split with the **highest Information Gain** (or lowest impurity) is selected. This process is **repeated recursively** for each subset until the data is pure (all one class) or a stopping condition is met (like max depth or minimum samples).\n",
        "\n",
        "In this way, the tree grows by choosing splits that **mathematically reduce impurity** at each step.\n"
      ],
      "metadata": {
        "id": "a38Q6-gfzdX-"
      }
    },
    {
      "cell_type": "markdown",
      "source": [
        "**8. What is Pre-Pruning in Decision Trees?**\n",
        "- **Pre-pruning** in Decision Trees means stopping the tree from growing further during its construction when certain conditions are met. It helps prevent the model from becoming too complex and overfitting the training data.\n",
        "\n",
        "For example, the tree may stop splitting a node if it has too few samples, if the depth limit is reached, or if the split does not significantly reduce impurity. By applying pre-pruning, we ensure the tree remains simpler, faster, and more generalizable.\n"
      ],
      "metadata": {
        "id": "bp5ywv9azy27"
      }
    },
    {
      "cell_type": "markdown",
      "source": [
        "**9. What is Post-Pruning in Decision Trees?**\n",
        "- **Post-pruning** in Decision Trees means allowing the tree to grow fully first and then cutting back some branches afterward. This helps remove parts of the tree that may be overfitting the training data.\n",
        "\n",
        "After the full tree is built, branches that do not improve the model’s performance on a validation set are pruned (removed). This makes the tree simpler and improves its ability to generalize to new data.\n"
      ],
      "metadata": {
        "id": "FEhL3n6X0Jym"
      }
    },
    {
      "cell_type": "markdown",
      "source": [
        "**10. What is the difference between Pre-Pruning and Post-Pruning?**\n",
        "- **Pre-pruning** stops the tree from growing too big during training by applying rules like max depth or minimum samples before splitting nodes. It prevents overfitting early by limiting the tree’s size.\n",
        "\n",
        "- **Post-pruning** lets the tree grow fully and then removes unnecessary branches afterward based on performance on validation data. It simplifies the tree after seeing the full structure.\n",
        "\n",
        "In short, pre-pruning stops growth early, while post-pruning cuts back after full growth.\n"
      ],
      "metadata": {
        "id": "K6Xh1Dqf0Zcz"
      }
    },
    {
      "cell_type": "markdown",
      "source": [
        "**11. What is a Decision Tree Regressor?**\n",
        "- A **Decision Tree Regressor** is a type of decision tree used for predicting continuous numerical values instead of categories. It splits the data based on feature values to create regions with similar target values and makes predictions by averaging the values in each region.\n"
      ],
      "metadata": {
        "id": "0vpJbdmy0pDe"
      }
    },
    {
      "cell_type": "markdown",
      "source": [
        "**12. What are the advantages and disadvantages of Decision Trees?**\n",
        "- **Advantages of Decision Trees:**\n",
        "\n",
        "* Easy to understand and interpret because they mimic human decision-making.\n",
        "* Can handle both numerical and categorical data.\n",
        "* Requires little data preprocessing (no need to scale or normalize).\n",
        "* Can capture non-linear relationships.\n",
        "* Useful for feature selection by showing important features.\n",
        "\n",
        "**Disadvantages of Decision Trees:**\n",
        "\n",
        "* Prone to overfitting, especially with deep trees.\n",
        "* Small changes in data can cause big changes in the tree structure.\n",
        "* Can be biased towards features with more levels or categories.\n",
        "* Usually less accurate compared to ensemble methods like Random Forests or Gradient Boosting.\n"
      ],
      "metadata": {
        "id": "dyCVyW2l01RK"
      }
    },
    {
      "cell_type": "markdown",
      "source": [
        "**13. How does a Decision Tree handle missing values?**\n",
        "- A Decision Tree can handle missing values in a few ways:\n",
        "\n",
        "1. **Ignore missing values during split calculation:** Some algorithms skip missing data when deciding the best split.\n",
        "2. **Use surrogate splits:** When the main splitting feature is missing, the tree uses another correlated feature (surrogate) to decide the path.\n",
        "3. **Assign missing values to the most common or weighted branch:** Missing data can be sent down the branch that has the majority of samples or weighted based on probabilities.\n",
        "\n",
        "These methods help the tree make decisions even when some feature values are missing.\n"
      ],
      "metadata": {
        "id": "U2H0b_yJ1GTb"
      }
    },
    {
      "cell_type": "markdown",
      "source": [
        "**14.How does a Decision Tree handle categorical features?**\n",
        "- A Decision Tree handles **categorical features** by splitting the data based on the categories. For example, it can:\n",
        "\n",
        "* **Create a branch for each category** (if the number of categories is small).\n",
        "* Or, **group categories** into two or more subsets and split based on those groups (especially if there are many categories).\n",
        "\n",
        "The tree chooses the split that best separates the classes or reduces impurity, treating categorical values as distinct groups rather than numeric ranges.\n"
      ],
      "metadata": {
        "id": "NaMqTsPWybR9"
      }
    },
    {
      "cell_type": "markdown",
      "source": [
        "**15. What are some real-world applications of Decision Trees?**\n",
        "- Here are some real-world applications of Decision Trees:\n",
        "\n",
        "* **Customer churn prediction:** Identifying which customers are likely to leave a service.\n",
        "* **Loan approval:** Deciding whether to approve or reject a loan based on applicant data.\n",
        "* **Medical diagnosis:** Classifying diseases based on patient symptoms and test results.\n",
        "* **Fraud detection:** Spotting suspicious transactions in banking or insurance.\n",
        "* **Marketing:** Segmenting customers for targeted advertising.\n",
        "* **Quality control:** Detecting defects in manufacturing processes.\n",
        "\n",
        "Decision Trees are popular because they are interpretable and work well across many fields.\n"
      ],
      "metadata": {
        "id": "1L_9nLG21x1k"
      }
    },
    {
      "cell_type": "code",
      "source": [
        "#16.Write a Python program to train a Decision Tree Classifier on the Iris dataset and print the model accuracy.\n",
        "from sklearn.datasets import load_iris\n",
        "from sklearn.model_selection import train_test_split\n",
        "from sklearn.tree import DecisionTreeClassifier\n",
        "from sklearn.metrics import accuracy_score\n",
        "\n",
        "# Load Iris dataset\n",
        "iris = load_iris()\n",
        "X = iris.data\n",
        "y = iris.target\n",
        "\n",
        "# Split dataset into train and test sets\n",
        "X_train, X_test, y_train, y_test = train_test_split(X, y, test_size=0.3, random_state=42)\n",
        "\n",
        "# Initialize and train Decision Tree Classifier\n",
        "clf = DecisionTreeClassifier()\n",
        "clf.fit(X_train, y_train)\n",
        "\n",
        "# Predict on test data\n",
        "y_pred = clf.predict(X_test)\n",
        "\n",
        "# Calculate and print accuracy\n",
        "accuracy = accuracy_score(y_test, y_pred)\n",
        "print(f\"Model accuracy: {accuracy:.2f}\")\n"
      ],
      "metadata": {
        "id": "GRxRzb3b2AIY",
        "colab": {
          "base_uri": "https://localhost:8080/"
        },
        "outputId": "3145ef3f-b403-4f30-ce1a-3455be366e74"
      },
      "execution_count": 1,
      "outputs": [
        {
          "output_type": "stream",
          "name": "stdout",
          "text": [
            "Model accuracy: 1.00\n"
          ]
        }
      ]
    },
    {
      "cell_type": "code",
      "source": [
        "#17. Write a Python program to train a Decision Tree Classifier using Gini Impurity as the criterion and print the feature importances\n",
        "from sklearn.datasets import load_iris\n",
        "from sklearn.tree import DecisionTreeClassifier\n",
        "\n",
        "# Load Iris dataset\n",
        "iris = load_iris()\n",
        "X = iris.data\n",
        "y = iris.target\n",
        "\n",
        "# Initialize Decision Tree with Gini impurity\n",
        "clf = DecisionTreeClassifier(criterion='gini', random_state=42)\n",
        "\n",
        "# Train the model\n",
        "clf.fit(X, y)\n",
        "\n",
        "# Print feature importances\n",
        "print(\"Feature importances:\")\n",
        "for feature, importance in zip(iris.feature_names, clf.feature_importances_):\n",
        "    print(f\"{feature}: {importance:.4f}\")"
      ],
      "metadata": {
        "colab": {
          "base_uri": "https://localhost:8080/"
        },
        "id": "hX16MddW4aHI",
        "outputId": "529159eb-92b7-4cc5-baa3-b582950ea37e"
      },
      "execution_count": 2,
      "outputs": [
        {
          "output_type": "stream",
          "name": "stdout",
          "text": [
            "Feature importances:\n",
            "sepal length (cm): 0.0133\n",
            "sepal width (cm): 0.0000\n",
            "petal length (cm): 0.5641\n",
            "petal width (cm): 0.4226\n"
          ]
        }
      ]
    },
    {
      "cell_type": "code",
      "source": [
        "#18. Write a Python program to train a Decision Tree Classifier using Entropy as the splitting criterion and print the model accuracy.\n",
        "from sklearn.datasets import load_iris\n",
        "from sklearn.model_selection import train_test_split\n",
        "from sklearn.tree import DecisionTreeClassifier\n",
        "from sklearn.metrics import accuracy_score\n",
        "\n",
        "# Load Iris dataset\n",
        "iris = load_iris()\n",
        "X = iris.data\n",
        "y = iris.target\n",
        "\n",
        "# Split data into train and test sets\n",
        "X_train, X_test, y_train, y_test = train_test_split(X, y, test_size=0.3, random_state=42)\n",
        "\n",
        "# Initialize Decision Tree with Entropy criterion\n",
        "clf = DecisionTreeClassifier(criterion='entropy', random_state=42)\n",
        "\n",
        "# Train the model\n",
        "clf.fit(X_train, y_train)\n",
        "\n",
        "# Predict on test set\n",
        "y_pred = clf.predict(X_test)\n",
        "\n",
        "# Calculate and print accuracy\n",
        "accuracy = accuracy_score(y_test, y_pred)\n",
        "print(f\"Model accuracy: {accuracy:.2f}\")\n"
      ],
      "metadata": {
        "colab": {
          "base_uri": "https://localhost:8080/"
        },
        "id": "Ad6K73sG4jHA",
        "outputId": "a22cc28d-d564-4de7-cac1-9158aad297e5"
      },
      "execution_count": 3,
      "outputs": [
        {
          "output_type": "stream",
          "name": "stdout",
          "text": [
            "Model accuracy: 0.98\n"
          ]
        }
      ]
    },
    {
      "cell_type": "code",
      "source": [
        "#19. Write a Python program to train a Decision Tree Regressor on a housing dataset and evaluate using Mean Squared Error (MSE).\n",
        "from sklearn.datasets import fetch_california_housing # Import alternative dataset\n",
        "from sklearn.model_selection import train_test_split\n",
        "from sklearn.tree import DecisionTreeRegressor\n",
        "from sklearn.metrics import mean_squared_error\n",
        "\n",
        "# Load California Housing dataset instead of Boston Housing\n",
        "# boston = load_boston() # Removed deprecated function call\n",
        "housing = fetch_california_housing() # Load California Housing dataset\n",
        "X = housing.data\n",
        "y = housing.target\n",
        "\n",
        "# Split data into train and test sets\n",
        "X_train, X_test, y_train, y_test = train_test_split(X, y, test_size=0.3, random_state=42)\n",
        "\n",
        "# Initialize Decision Tree Regressor\n",
        "regressor = DecisionTreeRegressor(random_state=42)\n",
        "\n",
        "# Train the model\n",
        "regressor.fit(X_train, y_train)\n",
        "\n",
        "# Predict on test set\n",
        "y_pred = regressor.predict(X_test)\n",
        "\n",
        "# Calculate and print Mean Squared Error\n",
        "mse = mean_squared_error(y_test, y_pred)\n",
        "print(f\"Mean Squared Error: {mse:.2f}\")\n"
      ],
      "metadata": {
        "colab": {
          "base_uri": "https://localhost:8080/"
        },
        "id": "W4N8ahUc43A-",
        "outputId": "5cd67852-3ff4-4d65-e3dd-38b87ff474ec"
      },
      "execution_count": 23,
      "outputs": [
        {
          "output_type": "stream",
          "name": "stdout",
          "text": [
            "Mean Squared Error: 0.53\n"
          ]
        }
      ]
    },
    {
      "cell_type": "code",
      "source": [
        "#20. Write a Python program to train a Decision Tree Classifier and visualize the tree using graphviz.\n",
        "from sklearn.datasets import load_iris\n",
        "from sklearn.tree import DecisionTreeClassifier, export_graphviz\n",
        "import graphviz\n",
        "\n",
        "# Load Iris dataset\n",
        "iris = load_iris()\n",
        "X, y = iris.data, iris.target\n",
        "\n",
        "# Train Decision Tree Classifier\n",
        "clf = DecisionTreeClassifier(random_state=42)\n",
        "clf.fit(X, y)\n",
        "\n",
        "# Export the tree to DOT format\n",
        "dot_data = export_graphviz(\n",
        "    clf,\n",
        "    out_file=None,\n",
        "    feature_names=iris.feature_names,\n",
        "    class_names=iris.target_names,\n",
        "    filled=True,\n",
        "    rounded=True,\n",
        "    special_characters=True\n",
        ")\n",
        "\n",
        "# Visualize using graphviz\n",
        "graph = graphviz.Source(dot_data)\n",
        "graph.render(\"iris_decision_tree\")  # Saves to iris_decision_tree.pdf\n",
        "graph.view()  # Opens the PDF viewer to display the tree\n"
      ],
      "metadata": {
        "colab": {
          "base_uri": "https://localhost:8080/",
          "height": 36
        },
        "id": "5ETHg7eN5LKU",
        "outputId": "da3738f3-85a5-47bf-ad1f-22757532259c"
      },
      "execution_count": 5,
      "outputs": [
        {
          "output_type": "execute_result",
          "data": {
            "text/plain": [
              "'iris_decision_tree.pdf'"
            ],
            "application/vnd.google.colaboratory.intrinsic+json": {
              "type": "string"
            }
          },
          "metadata": {},
          "execution_count": 5
        }
      ]
    },
    {
      "cell_type": "code",
      "source": [
        "#21. Write a Python program to train a Decision Tree Classifier with a maximum depth of 3 and compare its accuracy with a fully grown tree.\n",
        "\n",
        "from sklearn.datasets import load_iris\n",
        "from sklearn.model_selection import train_test_split\n",
        "from sklearn.tree import DecisionTreeClassifier\n",
        "from sklearn.metrics import accuracy_score\n",
        "\n",
        "# Load data\n",
        "iris = load_iris()\n",
        "X, y = iris.data, iris.target\n",
        "\n",
        "# Split into train/test\n",
        "X_train, X_test, y_train, y_test = train_test_split(X, y, test_size=0.3, random_state=42)\n",
        "\n",
        "# Tree with max depth 3\n",
        "clf_limited = DecisionTreeClassifier(max_depth=3, random_state=42)\n",
        "clf_limited.fit(X_train, y_train)\n",
        "y_pred_limited = clf_limited.predict(X_test)\n",
        "acc_limited = accuracy_score(y_test, y_pred_limited)\n",
        "\n",
        "# Fully grown tree (no max depth)\n",
        "clf_full = DecisionTreeClassifier(random_state=42)\n",
        "clf_full.fit(X_train, y_train)\n",
        "y_pred_full = clf_full.predict(X_test)\n",
        "acc_full = accuracy_score(y_test, y_pred_full)\n",
        "\n",
        "print(f\"Accuracy with max depth 3: {acc_limited:.2f}\")\n",
        "print(f\"Accuracy of fully grown tree: {acc_full:.2f}\")\n",
        "\n"
      ],
      "metadata": {
        "colab": {
          "base_uri": "https://localhost:8080/"
        },
        "id": "dJZE-Ft_53k_",
        "outputId": "29ac52b5-38fb-4129-8ca9-ef3a8f6ac582"
      },
      "execution_count": 10,
      "outputs": [
        {
          "output_type": "stream",
          "name": "stdout",
          "text": [
            "Accuracy with max depth 3: 1.00\n",
            "Accuracy of fully grown tree: 1.00\n"
          ]
        }
      ]
    },
    {
      "cell_type": "code",
      "source": [
        "#22. Write a Python program to train a Decision Tree Classifier using min_samples_split=5 and compare its accuracy with a default tree.\n",
        "from sklearn.datasets import load_iris\n",
        "from sklearn.model_selection import train_test_split\n",
        "from sklearn.tree import DecisionTreeClassifier\n",
        "from sklearn.metrics import accuracy_score\n",
        "\n",
        "# Load Iris dataset\n",
        "iris = load_iris()\n",
        "X, y = iris.data, iris.target\n",
        "\n",
        "# Split into train and test sets\n",
        "X_train, X_test, y_train, y_test = train_test_split(X, y, test_size=0.3, random_state=42)\n",
        "\n",
        "# Decision Tree with min_samples_split=5\n",
        "clf_custom = DecisionTreeClassifier(min_samples_split=5, random_state=42)\n",
        "clf_custom.fit(X_train, y_train)\n",
        "y_pred_custom = clf_custom.predict(X_test)\n",
        "acc_custom = accuracy_score(y_test, y_pred_custom)\n",
        "\n",
        "# Default Decision Tree\n",
        "clf_default = DecisionTreeClassifier(random_state=42)\n",
        "clf_default.fit(X_train, y_train)\n",
        "y_pred_default = clf_default.predict(X_test)\n",
        "acc_default = accuracy_score(y_test, y_pred_default)\n",
        "\n",
        "print(f\"Accuracy with min_samples_split=5: {acc_custom:.2f}\")\n",
        "print(f\"Accuracy with default parameters: {acc_default:.2f}\")\n"
      ],
      "metadata": {
        "colab": {
          "base_uri": "https://localhost:8080/"
        },
        "id": "FL2fHeio6PxT",
        "outputId": "1108175a-83fc-4961-ccc6-1fbecf7152fe"
      },
      "execution_count": 11,
      "outputs": [
        {
          "output_type": "stream",
          "name": "stdout",
          "text": [
            "Accuracy with min_samples_split=5: 1.00\n",
            "Accuracy with default parameters: 1.00\n"
          ]
        }
      ]
    },
    {
      "cell_type": "code",
      "source": [
        "#23. Write a Python program to apply feature scaling before training a Decision Tree Classifier and compare its accuracy with unscaled data.\n",
        "from sklearn.datasets import load_iris\n",
        "from sklearn.model_selection import train_test_split\n",
        "from sklearn.preprocessing import StandardScaler\n",
        "from sklearn.tree import DecisionTreeClassifier\n",
        "from sklearn.metrics import accuracy_score\n",
        "\n",
        "# Load Iris dataset\n",
        "iris = load_iris()\n",
        "X, y = iris.data, iris.target\n",
        "\n",
        "# Split into train/test sets\n",
        "X_train, X_test, y_train, y_test = train_test_split(X, y, test_size=0.3, random_state=42)\n",
        "\n",
        "# 1. Train on unscaled data\n",
        "clf_unscaled = DecisionTreeClassifier(random_state=42)\n",
        "clf_unscaled.fit(X_train, y_train)\n",
        "y_pred_unscaled = clf_unscaled.predict(X_test)\n",
        "acc_unscaled = accuracy_score(y_test, y_pred_unscaled)\n",
        "\n",
        "# 2. Scale features and train\n",
        "scaler = StandardScaler()\n",
        "X_train_scaled = scaler.fit_transform(X_train)\n",
        "X_test_scaled = scaler.transform(X_test)\n",
        "\n",
        "clf_scaled = DecisionTreeClassifier(random_state=42)\n",
        "clf_scaled.fit(X_train_scaled, y_train)\n",
        "y_pred_scaled = clf_scaled.predict(X_test_scaled)\n",
        "acc_scaled = accuracy_score(y_test, y_pred_scaled)\n",
        "\n",
        "print(f\"Accuracy without scaling: {acc_unscaled:.2f}\")\n",
        "print(f\"Accuracy with scaling: {acc_scaled:.2f}\")\n"
      ],
      "metadata": {
        "colab": {
          "base_uri": "https://localhost:8080/"
        },
        "id": "kIKQzizM6dND",
        "outputId": "26b15a69-0e2d-4839-c7c9-27e543c4bda1"
      },
      "execution_count": 12,
      "outputs": [
        {
          "output_type": "stream",
          "name": "stdout",
          "text": [
            "Accuracy without scaling: 1.00\n",
            "Accuracy with scaling: 1.00\n"
          ]
        }
      ]
    },
    {
      "cell_type": "code",
      "source": [
        "#24. Write a Python program to train a Decision Tree Classifier using One-vs-Rest (OvR) strategy for multiclass classification.\n",
        "from sklearn.datasets import load_iris\n",
        "from sklearn.model_selection import train_test_split\n",
        "from sklearn.tree import DecisionTreeClassifier\n",
        "from sklearn.multiclass import OneVsRestClassifier\n",
        "from sklearn.metrics import accuracy_score\n",
        "\n",
        "# Load dataset\n",
        "iris = load_iris()\n",
        "X, y = iris.data, iris.target\n",
        "\n",
        "# Split into train/test\n",
        "X_train, X_test, y_train, y_test = train_test_split(X, y, test_size=0.3, random_state=42)\n",
        "\n",
        "# Initialize OvR with Decision Tree\n",
        "ovr_clf = OneVsRestClassifier(DecisionTreeClassifier(random_state=42))\n",
        "\n",
        "# Train the model\n",
        "ovr_clf.fit(X_train, y_train)\n",
        "\n",
        "# Predict on test data\n",
        "y_pred = ovr_clf.predict(X_test)\n",
        "\n",
        "# Calculate accuracy\n",
        "accuracy = accuracy_score(y_test, y_pred)\n",
        "print(f\"OvR Decision Tree accuracy: {accuracy:.2f}\")\n"
      ],
      "metadata": {
        "colab": {
          "base_uri": "https://localhost:8080/"
        },
        "id": "cBY9V9JI6269",
        "outputId": "971d78d2-0bd9-4295-fc24-255709d2ddde"
      },
      "execution_count": 13,
      "outputs": [
        {
          "output_type": "stream",
          "name": "stdout",
          "text": [
            "OvR Decision Tree accuracy: 1.00\n"
          ]
        }
      ]
    },
    {
      "cell_type": "code",
      "source": [
        "#25. Write a Python program to train a Decision Tree Classifier and display the feature importance scores.\n",
        "from sklearn.datasets import load_iris\n",
        "from sklearn.tree import DecisionTreeClassifier\n",
        "\n",
        "# Load Iris dataset\n",
        "iris = load_iris()\n",
        "X, y = iris.data, iris.target\n",
        "\n",
        "# Train Decision Tree Classifier\n",
        "clf = DecisionTreeClassifier(random_state=42)\n",
        "clf.fit(X, y)\n",
        "\n",
        "# Display feature importance scores\n",
        "print(\"Feature importances:\")\n",
        "for feature, importance in zip(iris.feature_names, clf.feature_importances_):\n",
        "    print(f\"{feature}: {importance:.4f}\")\n"
      ],
      "metadata": {
        "colab": {
          "base_uri": "https://localhost:8080/"
        },
        "id": "bmBdVmls7Ey8",
        "outputId": "d9ed1d94-7d57-42d5-9f6f-7536ff09645b"
      },
      "execution_count": 14,
      "outputs": [
        {
          "output_type": "stream",
          "name": "stdout",
          "text": [
            "Feature importances:\n",
            "sepal length (cm): 0.0133\n",
            "sepal width (cm): 0.0000\n",
            "petal length (cm): 0.5641\n",
            "petal width (cm): 0.4226\n"
          ]
        }
      ]
    },
    {
      "cell_type": "code",
      "source": [
        "#26. Write a Python program to train a Decision Tree Regressor with max_depth=5 and compare its performance with an unrestricted tree.\n",
        "from sklearn.datasets import fetch_california_housing # Import alternative dataset\n",
        "from sklearn.model_selection import train_test_split\n",
        "from sklearn.tree import DecisionTreeRegressor\n",
        "from sklearn.metrics import mean_squared_error\n",
        "\n",
        "# Load California Housing dataset instead of Boston Housing\n",
        "# boston = load_boston() # Removed deprecated function call\n",
        "housing = fetch_california_housing() # Load California Housing dataset\n",
        "X, y = housing.data, housing.target # Use the new dataset\n",
        "\n",
        "# Split data\n",
        "X_train, X_test, y_train, y_test = train_test_split(X, y, test_size=0.3, random_state=42)\n",
        "\n",
        "# Regressor with max_depth=5\n",
        "regressor_limited = DecisionTreeRegressor(max_depth=5, random_state=42)\n",
        "regressor_limited.fit(X_train, y_train)\n",
        "y_pred_limited = regressor_limited.predict(X_test)\n",
        "mse_limited = mean_squared_error(y_test, y_pred_limited)\n",
        "\n",
        "# Unrestricted regressor\n",
        "regressor_full = DecisionTreeRegressor(random_state=42)\n",
        "regressor_full.fit(X_train, y_train)\n",
        "y_pred_full = regressor_full.predict(X_test)\n",
        "mse_full = mean_squared_error(y_test, y_pred_full)\n",
        "\n",
        "print(f\"MSE with max_depth=5: {mse_limited:.2f}\")\n",
        "print(f\"MSE with unrestricted tree: {mse_full:.2f}\")\n"
      ],
      "metadata": {
        "colab": {
          "base_uri": "https://localhost:8080/"
        },
        "id": "tofuXAUw7Q3o",
        "outputId": "369a0090-f813-420e-c755-cd7c40c569b1"
      },
      "execution_count": 22,
      "outputs": [
        {
          "output_type": "stream",
          "name": "stdout",
          "text": [
            "MSE with max_depth=5: 0.52\n",
            "MSE with unrestricted tree: 0.53\n"
          ]
        }
      ]
    },
    {
      "cell_type": "code",
      "source": [
        "#27. Write a Python program to train a Decision Tree Classifier, apply Cost Complexity Pruning (CCP), and visualize its effect on accuracy.\n",
        "import matplotlib.pyplot as plt\n",
        "from sklearn.datasets import load_iris\n",
        "from sklearn.model_selection import train_test_split\n",
        "from sklearn.tree import DecisionTreeClassifier\n",
        "\n",
        "# Load data\n",
        "iris = load_iris()\n",
        "X, y = iris.data, iris.target\n",
        "\n",
        "# Split into train/test sets\n",
        "X_train, X_test, y_train, y_test = train_test_split(X, y, test_size=0.3, random_state=42)\n",
        "\n",
        "# Train a fully grown tree\n",
        "clf = DecisionTreeClassifier(random_state=42)\n",
        "clf.fit(X_train, y_train)\n",
        "\n",
        "# Get cost complexity pruning path\n",
        "path = clf.cost_complexity_pruning_path(X_train, y_train)\n",
        "ccp_alphas, impurities = path.ccp_alphas, path.impurities\n",
        "\n",
        "# Train trees for each alpha and record accuracy\n",
        "train_scores = []\n",
        "test_scores = []\n",
        "\n",
        "for ccp_alpha in ccp_alphas:\n",
        "    clf_pruned = DecisionTreeClassifier(random_state=42, ccp_alpha=ccp_alpha)\n",
        "    clf_pruned.fit(X_train, y_train)\n",
        "    train_scores.append(clf_pruned.score(X_train, y_train))\n",
        "    test_scores.append(clf_pruned.score(X_test, y_test))\n",
        "\n",
        "# Plot accuracy vs alpha\n",
        "plt.figure(figsize=(8, 5))\n",
        "plt.plot(ccp_alphas, train_scores, marker='o', label='Train Accuracy')\n",
        "plt.plot(ccp_alphas, test_scores, marker='o', label='Test Accuracy')\n",
        "plt.xlabel('ccp_alpha')\n",
        "plt.ylabel('Accuracy')\n",
        "plt.title('Accuracy vs Cost Complexity Pruning Alpha')\n",
        "plt.legend()\n",
        "plt.grid(True)\n",
        "plt.show()\n"
      ],
      "metadata": {
        "colab": {
          "base_uri": "https://localhost:8080/",
          "height": 487
        },
        "id": "JZTvts-J7vRr",
        "outputId": "faf0912b-d158-4995-8577-027529a05283"
      },
      "execution_count": 16,
      "outputs": [
        {
          "output_type": "display_data",
          "data": {
            "text/plain": [
              "<Figure size 800x500 with 1 Axes>"
            ],
            "image/png": "[encoded data removed]"
          },
          "metadata": {}
        }
      ]
    },
    {
      "cell_type": "code",
      "source": [
        "#28. Write a Python program to train a Decision Tree Classifier and evaluate its performance using Precision,Recall, and F1-Score.\n",
        "from sklearn.datasets import load_iris\n",
        "from sklearn.model_selection import train_test_split\n",
        "from sklearn.tree import DecisionTreeClassifier\n",
        "from sklearn.metrics import classification_report\n",
        "\n",
        "# Load Iris dataset\n",
        "iris = load_iris()\n",
        "X, y = iris.data, iris.target\n",
        "\n",
        "# Split into train and test sets\n",
        "X_train, X_test, y_train, y_test = train_test_split(X, y, test_size=0.3, random_state=42)\n",
        "\n",
        "# Train Decision Tree Classifier\n",
        "clf = DecisionTreeClassifier(random_state=42)\n",
        "clf.fit(X_train, y_train)\n",
        "\n",
        "# Predict on test set\n",
        "y_pred = clf.predict(X_test)\n",
        "\n",
        "# Print classification report (Precision, Recall, F1-score)\n",
        "print(classification_report(y_test, y_pred, target_names=iris.target_names))\n"
      ],
      "metadata": {
        "colab": {
          "base_uri": "https://localhost:8080/"
        },
        "id": "Eah7lggU8A4D",
        "outputId": "75d75365-4d8f-4db9-fcb3-4b66c4e0d9bd"
      },
      "execution_count": 17,
      "outputs": [
        {
          "output_type": "stream",
          "name": "stdout",
          "text": [
            "              precision    recall  f1-score   support\n",
            "\n",
            "      setosa       1.00      1.00      1.00        19\n",
            "  versicolor       1.00      1.00      1.00        13\n",
            "   virginica       1.00      1.00      1.00        13\n",
            "\n",
            "    accuracy                           1.00        45\n",
            "   macro avg       1.00      1.00      1.00        45\n",
            "weighted avg       1.00      1.00      1.00        45\n",
            "\n"
          ]
        }
      ]
    },
    {
      "cell_type": "code",
      "source": [
        "#29. Write a Python program to train a Decision Tree Classifier and visualize the confusion matrix using seaborn.\n",
        "import seaborn as sns\n",
        "import matplotlib.pyplot as plt\n",
        "from sklearn.datasets import load_iris\n",
        "from sklearn.model_selection import train_test_split\n",
        "from sklearn.tree import DecisionTreeClassifier\n",
        "from sklearn.metrics import confusion_matrix\n",
        "\n",
        "# Load Iris dataset\n",
        "iris = load_iris()\n",
        "X, y = iris.data, iris.target\n",
        "\n",
        "# Split data\n",
        "X_train, X_test, y_train, y_test = train_test_split(X, y, test_size=0.3, random_state=42)\n",
        "\n",
        "# Train Decision Tree Classifier\n",
        "clf = DecisionTreeClassifier(random_state=42)\n",
        "clf.fit(X_train, y_train)\n",
        "\n",
        "# Predict on test set\n",
        "y_pred = clf.predict(X_test)\n",
        "\n",
        "# Compute confusion matrix\n",
        "cm = confusion_matrix(y_test, y_pred)\n",
        "\n",
        "# Plot confusion matrix using seaborn\n",
        "plt.figure(figsize=(7,5))\n",
        "sns.heatmap(cm, annot=True, fmt=\"d\", cmap=\"Blues\",\n",
        "            xticklabels=iris.target_names,\n",
        "            yticklabels=iris.target_names)\n",
        "plt.xlabel(\"Predicted\")\n",
        "plt.ylabel(\"Actual\")\n",
        "plt.title(\"Confusion Matrix - Decision Tree Classifier\")\n",
        "plt.show()\n"
      ],
      "metadata": {
        "colab": {
          "base_uri": "https://localhost:8080/",
          "height": 487
        },
        "id": "Vib-A4v58Rrm",
        "outputId": "dbfea15a-801c-4139-cfa7-95f82e35dcfd"
      },
      "execution_count": 18,
      "outputs": [
        {
          "output_type": "display_data",
          "data": {
            "text/plain": [
              "<Figure size 700x500 with 2 Axes>"
            ],
            "image/png": "[encoded data removed]"
          },
          "metadata": {}
        }
      ]
    },
    {
      "cell_type": "code",
      "source": [
        "#30. Write a Python program to train a Decision Tree Classifier and use GridSearchCV to find the optimal values for max_depth and min_samples_split.\n",
        "from sklearn.datasets import load_iris\n",
        "from sklearn.model_selection import train_test_split, GridSearchCV\n",
        "from sklearn.tree import DecisionTreeClassifier\n",
        "\n",
        "# Load Iris dataset\n",
        "iris = load_iris()\n",
        "X, y = iris.data, iris.target\n",
        "\n",
        "# Split into train/test\n",
        "X_train, X_test, y_train, y_test = train_test_split(X, y, test_size=0.3, random_state=42)\n",
        "\n",
        "# Define model\n",
        "clf = DecisionTreeClassifier(random_state=42)\n",
        "\n",
        "# Define parameter grid\n",
        "param_grid = {\n",
        "    'max_depth': [2, 3, 4, 5, None],\n",
        "    'min_samples_split': [2, 5, 10]\n",
        "}\n",
        "\n",
        "# Setup GridSearchCV\n",
        "grid_search = GridSearchCV(clf, param_grid, cv=5, scoring='accuracy')\n",
        "\n",
        "# Fit GridSearchCV\n",
        "grid_search.fit(X_train, y_train)\n",
        "\n",
        "# Best params and score\n",
        "print(f\"Best parameters: {grid_search.best_params_}\")\n",
        "print(f\"Best cross-validation accuracy: {grid_search.best_score_:.2f}\")\n",
        "\n",
        "# Evaluate best estimator on test set\n",
        "best_clf = grid_search.best_estimator_\n",
        "test_accuracy = best_clf.score(X_test, y_test)\n",
        "print(f\"Test set accuracy with best params: {test_accuracy:.2f}\")\n"
      ],
      "metadata": {
        "colab": {
          "base_uri": "https://localhost:8080/"
        },
        "id": "YvZDtu3I8gt2",
        "outputId": "030a833e-d01f-483c-ee72-aebcd732404e"
      },
      "execution_count": 19,
      "outputs": [
        {
          "output_type": "stream",
          "name": "stdout",
          "text": [
            "Best parameters: {'max_depth': 4, 'min_samples_split': 10}\n",
            "Best cross-validation accuracy: 0.94\n",
            "Test set accuracy with best params: 1.00\n"
          ]
        }
      ]
    }
  ]
}